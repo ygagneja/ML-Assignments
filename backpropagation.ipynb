{
 "cells": [
  {
   "cell_type": "code",
   "execution_count": 125,
   "metadata": {},
   "outputs": [],
   "source": [
    "import numpy as np\n",
    "from scipy.io import loadmat\n",
    "from scipy import optimize\n",
    "\n",
    "reg = 1\n",
    "labels = 10\n",
    "data = loadmat('ex3data1.mat')\n",
    "X = data['X']\n",
    "y = data['y']\n",
    "y[y == 10] = 0\n",
    "# X : 5000x400\n",
    "# y : 5000x1\n",
    "# Initialise theta matrices\n",
    "weights = loadmat('ex4weights.mat')\n",
    "theta1 = weights['Theta1']\n",
    "# theta1 : 25x401\n",
    "theta2 = weights['Theta2']\n",
    "# theta2 : 10x26"
   ]
  },
  {
   "cell_type": "code",
   "execution_count": 127,
   "metadata": {},
   "outputs": [],
   "source": [
    "def sigmoid(mat):\n",
    "    return (1/(1 + np.exp(-mat)))"
   ]
  },
  {
   "cell_type": "code",
   "execution_count": 126,
   "metadata": {},
   "outputs": [],
   "source": [
    "def sigmoidGrad(mat):\n",
    "    return sigmoid(mat)*(1 - sigmoid(mat))"
   ]
  },
  {
   "cell_type": "code",
   "execution_count": 128,
   "metadata": {},
   "outputs": [],
   "source": [
    "def forwardPropagation(theta, X):\n",
    "    theta1 = np.reshape(theta[0:10025], (25, 401))\n",
    "    theta2 = np.reshape(theta[10025:10285], (10, 26))\n",
    "    \n",
    "    X_bias = np.concatenate((np.ones((5000,1)), X), axis=1)\n",
    "    # 25x5000\n",
    "    g2 = np.matmul(theta1, X_bias.T)\n",
    "    a2 = sigmoid(g2)\n",
    "    a2_bias = np.concatenate((np.ones((1, 5000)), a2), axis=0)\n",
    "    # 10x5000\n",
    "    g3 = np.matmul(theta2, a2_bias)\n",
    "    a3 = sigmoid(g3)\n",
    "    return a3"
   ]
  },
  {
   "cell_type": "code",
   "execution_count": 129,
   "metadata": {},
   "outputs": [],
   "source": [
    "def costFunction(theta, X, y, reg):    \n",
    "    y_pred = forwardPropagation(theta, X)\n",
    "    batch_size = y.shape[0]\n",
    "    unreg_cost = 0\n",
    "    for i in range(0, labels):\n",
    "        idx = (i+9)%10\n",
    "        unreg_cost = unreg_cost - (1/batch_size)*(np.matmul(np.log(y_pred[idx:idx+1,]), (y==i)*1) + np.matmul(np.log(1-y_pred[idx:idx+1,]), (1-(y==i)*1)))\n",
    "    reg_cost = (reg*(np.sum(theta1[:,1:]**2) + np.sum(theta2[:,1:]**2)))/(2*batch_size)\n",
    "    return np.array([unreg_cost[0,0] + reg_cost])"
   ]
  },
  {
   "cell_type": "code",
   "execution_count": 130,
   "metadata": {},
   "outputs": [
    {
     "name": "stdout",
     "output_type": "stream",
     "text": [
      "Cost : 0.383770\n"
     ]
    }
   ],
   "source": [
    "theta = np.concatenate((theta1.flatten(), theta2.flatten()), axis=0)\n",
    "print(\"Cost : %f\" %costFunction(theta, X, y, reg))"
   ]
  },
  {
   "cell_type": "code",
   "execution_count": 131,
   "metadata": {},
   "outputs": [],
   "source": [
    "def giveGradient(theta, X, y, reg):\n",
    "    theta1 = np.reshape(theta[0:10025], (25, 401))\n",
    "    theta2 = np.reshape(theta[10025:10285], (10, 26))\n",
    "    \n",
    "    batch_size = X.shape[0]\n",
    "    X_bias = np.concatenate((np.ones((5000,1)), X), axis=1)\n",
    "    delMat1 = np.zeros((25, 401))\n",
    "    delMat2 = np.zeros((10, 26))\n",
    "    for i in range(0, batch_size):\n",
    "        a1_bias = X_bias[i:i+1,:].T\n",
    "        z2 = np.matmul(theta1, a1_bias)\n",
    "        a2 = sigmoid(z2)\n",
    "        a2_bias = np.concatenate((np.ones((1,1)), a2), axis=0)\n",
    "        z3 = np.matmul(theta2, a2_bias)\n",
    "        a3 = sigmoid(z3)\n",
    "        y_out = np.zeros((10, 1))\n",
    "        y_out[(y[i,0]+9)%10] = 1\n",
    "        del3 = a3 - y_out\n",
    "        del2 = np.matmul(theta2.T, del3)[1:,] * sigmoidGrad(z2)\n",
    "        delMat1 = delMat1 + np.matmul(del2, a1_bias.T)\n",
    "        delMat2 = delMat2 + np.matmul(del3, a2_bias.T)\n",
    "        \n",
    "    grad1 = (delMat1 + reg*theta1)/batch_size\n",
    "    grad1[:,0] = grad1[:,0] - (reg*theta1[:,0])/batch_size\n",
    "    grad2 = (delMat2 + reg*theta2)/batch_size\n",
    "    grad2[:,0] = grad2[:,0] - (reg*theta2[:,0])/batch_size\n",
    "    return np.concatenate((grad1.flatten(), grad2.flatten()), axis=0)"
   ]
  },
  {
   "cell_type": "code",
   "execution_count": 132,
   "metadata": {},
   "outputs": [],
   "source": [
    "def numGradient(theta, X, y, reg):\n",
    "    epsilon = 0.001\n",
    "    num_grad = np.zeros(theta.size)\n",
    "    GRAD = giveGradient(theta, X, y, reg)\n",
    "    for i in range(0, theta.size):\n",
    "        theta[i] = theta[i] + epsilon\n",
    "        J_plus = costFunction(theta, X, y, reg)\n",
    "        theta[i] = theta[i] - 2*epsilon\n",
    "        J_minus = costFunction(theta, X, y, reg)\n",
    "        theta[i] = theta[i] + epsilon\n",
    "        num_grad[i] = (J_plus - J_minus)/(2*epsilon)\n",
    "        print(num_grad[i] - GRAD[i])\n",
    "    \n",
    "    return num_grad"
   ]
  },
  {
   "cell_type": "code",
   "execution_count": 133,
   "metadata": {},
   "outputs": [],
   "source": [
    "# print(giveGradient(theta, X, y, 0)[0:30])\n",
    "# print(numGradient(theta, X, y, 0)[0:30])"
   ]
  },
  {
   "cell_type": "code",
   "execution_count": 134,
   "metadata": {},
   "outputs": [
    {
     "name": "stdout",
     "output_type": "stream",
     "text": [
      "Warning: Maximum number of iterations has been exceeded.\n",
      "         Current function value: 0.430718\n",
      "         Iterations: 50\n",
      "         Function evaluations: 108\n",
      "         Gradient evaluations: 108\n"
     ]
    }
   ],
   "source": [
    "epsilon = 0.12\n",
    "flat_params = np.random.uniform(-epsilon, epsilon, (1, 10285)).flatten()\n",
    "thetaArr = optimize.fmin_cg(costFunction, flat_params, fprime=giveGradient, args=(X, y, reg), maxiter=50)"
   ]
  },
  {
   "cell_type": "code",
   "execution_count": 135,
   "metadata": {},
   "outputs": [
    {
     "name": "stdout",
     "output_type": "stream",
     "text": [
      "Accuracy : 96.000000\n"
     ]
    }
   ],
   "source": [
    "y_pred = forwardPropagation(thetaArr, X)\n",
    "y_pred = np.argmax(y_pred, axis=0)\n",
    "y_pred = (y_pred + 1)%10\n",
    "check = (y.flatten() == y_pred)*1\n",
    "print(\"Accuracy : %f\" %(100*np.sum(check)/(X.shape[0])))"
   ]
  },
  {
   "cell_type": "code",
   "execution_count": null,
   "metadata": {},
   "outputs": [],
   "source": [
    "np.savetxt('text.txt',mat,fmt='%.2f')"
   ]
  }
 ],
 "metadata": {
  "kernelspec": {
   "display_name": "Python 3",
   "language": "python",
   "name": "python3"
  },
  "language_info": {
   "codemirror_mode": {
    "name": "ipython",
    "version": 3
   },
   "file_extension": ".py",
   "mimetype": "text/x-python",
   "name": "python",
   "nbconvert_exporter": "python",
   "pygments_lexer": "ipython3",
   "version": "3.7.4"
  }
 },
 "nbformat": 4,
 "nbformat_minor": 2
}
